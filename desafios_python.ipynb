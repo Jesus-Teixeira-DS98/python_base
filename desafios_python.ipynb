{
 "cells": [
  {
   "cell_type": "markdown",
   "metadata": {},
   "source": [
    "\"\"\" Variáveis e Print:\n",
    "Escreva um programa que declare duas variáveis, nome e idade, e depois imprima uma mensagem que diz: \"Meu nome é [nome] e eu tenho [idade] anos.\"\n",
    "\"\"\""
   ]
  },
  {
   "cell_type": "code",
   "execution_count": 6,
   "metadata": {},
   "outputs": [
    {
     "name": "stdout",
     "output_type": "stream",
     "text": [
      "My name is Jesus and I am 24 years old\n"
     ]
    }
   ],
   "source": [
    "name = \"Jesus\"\n",
    "age  = 24\n",
    "\n",
    "phrase = f\"My name is {name} and I am {age} years old\"\n",
    "print(phrase)"
   ]
  },
  {
   "cell_type": "markdown",
   "metadata": {},
   "source": [
    "Operações Matemáticas Simples:\n",
    "Crie um programa que solicita ao usuário para inserir dois números e realize as quatro operações matemáticas básicas (adição, subtração, multiplicação e divisão) com esses números. Em seguida, imprima os resultados.\n"
   ]
  },
  {
   "cell_type": "code",
   "execution_count": 7,
   "metadata": {},
   "outputs": [
    {
     "name": "stdout",
     "output_type": "stream",
     "text": [
      "Iniciando a Calculadora\n",
      "15 + 5 = 20\n",
      "15 - 5 = 10\n",
      "15 * 5 = 75\n",
      "15 / 5 = 3.0\n"
     ]
    }
   ],
   "source": [
    "# Iniciar o Programa \n",
    "# Pedir os dois números \n",
    "# Fazer as quatro operações \n",
    "# printas os resultados \n",
    "\n",
    "print(\"Iniciando a Calculadora\")\n",
    "n1 = int(input('digite o primeiro número: '))\n",
    "n2 = int(input('digite o segundo número: '))\n",
    "\n",
    "soma = n1 + n2 \n",
    "sub  = n1 - n2\n",
    "mult = n1 * n2\n",
    "div  = n1 / n2\n",
    "\n",
    "print(f\"{n1} + {n2} = {soma}\")\n",
    "print(f\"{n1} - {n2} = {sub}\")\n",
    "print(f\"{n1} * {n2} = {mult}\")\n",
    "print(f\"{n1} / {n2} = {div}\")"
   ]
  },
  {
   "cell_type": "markdown",
   "metadata": {},
   "source": [
    "Condicionais (if, elif, else):\n",
    "Escreva um programa que solicita ao usuário para inserir um número inteiro e, em seguida, verifica se o número é positivo, negativo ou igual a zero. Imprima uma mensagem correspondente.\n"
   ]
  },
  {
   "cell_type": "code",
   "execution_count": 9,
   "metadata": {},
   "outputs": [
    {
     "name": "stdout",
     "output_type": "stream",
     "text": [
      "Verificando o Sinal de um número!\n",
      "Menor que zero\n"
     ]
    }
   ],
   "source": [
    "print('Verificando o Sinal de um número!')\n",
    "n1 = int(input('digite um número: '))\n",
    "\n",
    "if n1 == 0:\n",
    "    print('Zero')\n",
    "elif n1 > 0:\n",
    "    print('Maior que zero')\n",
    "else: \n",
    "    print('Menor que zero')\n",
    "\n"
   ]
  },
  {
   "cell_type": "markdown",
   "metadata": {},
   "source": [
    "Condicionais (if, elif, else):\n",
    "Peça ao usuário para inserir sua idade e, com base na idade, imprima uma mensagem adequada:\n",
    "\n",
    "Se a idade for menor que 18, imprima \"Menor de idade\".\n",
    "Se a idade estiver entre 18 e 65 (inclusive), imprima \"Adulto\".\n",
    "Se a idade for maior que 65, imprima \"Idoso\".\n"
   ]
  },
  {
   "cell_type": "code",
   "execution_count": 12,
   "metadata": {},
   "outputs": [
    {
     "name": "stdout",
     "output_type": "stream",
     "text": [
      "Verificação de idade!\n",
      "Idoso\n"
     ]
    }
   ],
   "source": [
    "print('Verificação de idade!')\n",
    "idade = int(input('Digite a sua idade: '))\n",
    "\n",
    "if idade < 18:\n",
    "    r = \"Menor de Idade\"\n",
    "elif (idade >= 18) and (idade < 60):\n",
    "    r = \"Adulto\"\n",
    "else:\n",
    "    r = \"Idoso\"\n",
    "\n",
    "print(f'Voce está na faixa etária: {r}')"
   ]
  },
  {
   "cell_type": "markdown",
   "metadata": {},
   "source": [
    "Desafio: Listas!\n",
    "Crie uma lista que contenha uma mistura de strings e inteiros. Em seguida, utilize um loop \"for\" para percorrer a lista e, para cada elemento, verifique o tipo de dado e imprima a posição e uma mensagem apropriada que descreva o tipo de dado.\n"
   ]
  },
  {
   "cell_type": "markdown",
   "metadata": {},
   "source": [
    "Pesquise sobre o uso do looping \"for\" para realizar essa verificação de forma mais eficaz."
   ]
  },
  {
   "cell_type": "code",
   "execution_count": 13,
   "metadata": {},
   "outputs": [
    {
     "name": "stdout",
     "output_type": "stream",
     "text": [
      "<class 'int'>\n",
      "<class 'str'>\n",
      "<class 'bool'>\n",
      "<class 'list'>\n",
      "<class 'int'>\n"
     ]
    }
   ],
   "source": [
    "list_ = [1, 'abc', False, [1, 2 , 3], 5]\n",
    "\n",
    "for i in list_:\n",
    "    print(type(i))"
   ]
  }
 ],
 "metadata": {
  "kernelspec": {
   "display_name": "Python 3",
   "language": "python",
   "name": "python3"
  },
  "language_info": {
   "codemirror_mode": {
    "name": "ipython",
    "version": 3
   },
   "file_extension": ".py",
   "mimetype": "text/x-python",
   "name": "python",
   "nbconvert_exporter": "python",
   "pygments_lexer": "ipython3",
   "version": "3.10.12"
  }
 },
 "nbformat": 4,
 "nbformat_minor": 2
}
